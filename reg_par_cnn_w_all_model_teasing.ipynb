{
 "cells": [
  {
   "cell_type": "code",
   "id": "initial_id",
   "metadata": {
    "collapsed": true,
    "ExecuteTime": {
     "end_time": "2024-07-01T19:51:21.306606Z",
     "start_time": "2024-07-01T19:51:15.828839Z"
    }
   },
   "source": [
    "# Import packages\n",
    "import os\n",
    "\n",
    "import torch.multiprocessing as mp\n",
    "import torch.optim as optim\n",
    "import torch.utils.data\n",
    "import torchvision.transforms.v2 as tvt\n",
    "from matplotlib import pyplot as plt\n",
    "\n",
    "from my_modules.custom_models import *\n",
    "from my_modules.model_learning.model_metrics import score_model\n",
    "from my_modules.nsclc import patient_wise_train_test_splitter\n",
    "from my_modules.nsclc.nsclc_dataset import NSCLCDataset"
   ],
   "outputs": [],
   "execution_count": 1
  },
  {
   "metadata": {
    "ExecuteTime": {
     "end_time": "2024-07-01T19:51:34.928031Z",
     "start_time": "2024-07-01T19:51:31.920800Z"
    }
   },
   "cell_type": "code",
   "source": [
    "# Prepare data\n",
    "data = NSCLCDataset('E:/NSCLC_Data_for_ML',\n",
    "                    ['orr', 'g', 's', 'photons', 'tau1', 'tau2', 'alpha1', 'alpha2', 'taumean', 'boundfraction'],\n",
    "                    device='cpu', label='Metastases', mask_on=False)\n",
    "data.normalize_channels('preset')\n",
    "data.transforms = tvt.Compose([tvt.RandomVerticalFlip(p=0.25),\n",
    "                               tvt.RandomHorizontalFlip(p=0.25),\n",
    "                               tvt.RandomRotation(degrees=(-180, 180))])"
   ],
   "id": "a51c8a4660b22742",
   "outputs": [],
   "execution_count": 4
  },
  {
   "metadata": {},
   "cell_type": "code",
   "outputs": [],
   "execution_count": null,
   "source": "",
   "id": "ab62b9aa3c3f0f0e"
  }
 ],
 "metadata": {
  "kernelspec": {
   "display_name": "Python 3",
   "language": "python",
   "name": "python3"
  },
  "language_info": {
   "codemirror_mode": {
    "name": "ipython",
    "version": 2
   },
   "file_extension": ".py",
   "mimetype": "text/x-python",
   "name": "python",
   "nbconvert_exporter": "python",
   "pygments_lexer": "ipython2",
   "version": "2.7.6"
  }
 },
 "nbformat": 4,
 "nbformat_minor": 5
}
